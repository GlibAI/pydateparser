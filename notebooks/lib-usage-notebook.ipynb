{
 "cells": [
  {
   "cell_type": "code",
   "execution_count": 1,
   "metadata": {},
   "outputs": [],
   "source": [
    "from dateandtimeparser import DateParser"
   ]
  },
  {
   "cell_type": "code",
   "execution_count": 2,
   "metadata": {},
   "outputs": [],
   "source": [
    "S1 = 'Today is 10/12/16 and tomorrow is January 01 2019.'\n",
    "S2 = 'entries are due by January 04, 2017 at 8:00pm'\n",
    "S3 = 'created 01/15/2005 by ACME Inc. and associates.'\n",
    "S4 = 'Dec.01.2015 - Dec 31 2015 - Dec,12,2015 - Dec,12,2015 - Dec,12th,2015 - DEC122014 '\n",
    "\n",
    "texts = [S1, S2, S3, S4]"
   ]
  },
  {
   "cell_type": "code",
   "execution_count": 14,
   "metadata": {},
   "outputs": [
    {
     "name": "stderr",
     "output_type": "stream",
     "text": [
      "DATEPARSER: 2019-07-12 13:59:09,258 INFO Extracting dates from the text.\n"
     ]
    },
    {
     "name": "stdout",
     "output_type": "stream",
     "text": [
      "TEXT: Today is 10/12/16 and tomorrow is January 01 2019.\n",
      "\n",
      "DATE(date='january 01 2019', token_span=(34, 49), token_index=(6, 8), format='%B %d %Y')\n",
      "----------------------------------------------------------------------------------------------------\n",
      "DATE(date='10/12/16', token_span=(9, 17), token_index=(2, 2), format='%m/%-d/%y')\n",
      "----------------------------------------------------------------------------------------------------\n",
      "DATE(date='10/12/16', token_span=(9, 17), token_index=(2, 2), format='%m/%d/%y')\n",
      "----------------------------------------------------------------------------------------------------\n",
      "****************************************************************************************************\n",
      "TEXT: entries are due by January 04, 2017 at 8:00pm\n",
      "\n"
     ]
    },
    {
     "name": "stderr",
     "output_type": "stream",
     "text": [
      "DATEPARSER: 2019-07-12 13:59:09,380 INFO Extracting dates from the text.\n",
      "DATEPARSER: 2019-07-12 13:59:09,613 INFO Extracting dates from the text.\n",
      "DATEPARSER: 2019-07-12 13:59:09,717 INFO Extracting dates from the text.\n"
     ]
    },
    {
     "name": "stdout",
     "output_type": "stream",
     "text": [
      "DATE(date='january 04, 2017', token_span=(19, 35), token_index=(4, 6), format='%B %d, %Y')\n",
      "----------------------------------------------------------------------------------------------------\n",
      "****************************************************************************************************\n",
      "TEXT: created 01/15/2005 by ACME Inc. and associates.\n",
      "\n",
      "DATE(date='01/15/2005', token_span=(8, 18), token_index=(1, 1), format='%m/%-d/%Y')\n",
      "----------------------------------------------------------------------------------------------------\n",
      "DATE(date='01/15/2005', token_span=(8, 18), token_index=(1, 1), format='%m/%d/%Y')\n",
      "----------------------------------------------------------------------------------------------------\n",
      "****************************************************************************************************\n",
      "TEXT: Dec.01.2015 - Dec 31 2015 - Dec,12,2015 - Dec,12,2015 - Dec,12th,2015 - DEC122014 \n",
      "\n",
      "DATE(date='dec 31 2015', token_span=(14, 25), token_index=(2, 4), format='%b %-d %Y')\n",
      "----------------------------------------------------------------------------------------------------\n",
      "DATE(date='dec 31 2015', token_span=(14, 25), token_index=(2, 4), format='%b %d %Y')\n",
      "----------------------------------------------------------------------------------------------------\n",
      "****************************************************************************************************\n"
     ]
    }
   ],
   "source": [
    "for text in texts:\n",
    "    TEXT = f\"TEXT: {text}\\n\"\n",
    "    try:\n",
    "        parsed_dates = DateParser(text=text, start_year=2000, end_year=2020) # pass your own custom formats, or just leave it.\n",
    "        print(TEXT)\n",
    "        for date in parsed_dates.date:\n",
    "            print(date)\n",
    "            print(\"-\"*100)\n",
    "        print(\"*\"*100)\n",
    "    except Exception:\n",
    "        print(TEXT)\n",
    "        print(\"EXTRACTION FAILED.\\n\")\n",
    "        print(\"*\"*100)\n",
    "        pass"
   ]
  }
 ],
 "metadata": {
  "kernelspec": {
   "display_name": "Python 3",
   "language": "python",
   "name": "python3"
  },
  "language_info": {
   "codemirror_mode": {
    "name": "ipython",
    "version": 3
   },
   "file_extension": ".py",
   "mimetype": "text/x-python",
   "name": "python",
   "nbconvert_exporter": "python",
   "pygments_lexer": "ipython3",
   "version": "3.7.2"
  }
 },
 "nbformat": 4,
 "nbformat_minor": 2
}
