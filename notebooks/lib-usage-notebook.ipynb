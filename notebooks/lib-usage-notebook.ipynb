{
 "cells": [
  {
   "cell_type": "code",
   "execution_count": 1,
   "metadata": {},
   "outputs": [],
   "source": [
    "from dateandtimeparser import DateTimeParser"
   ]
  },
  {
   "cell_type": "code",
   "execution_count": 2,
   "metadata": {},
   "outputs": [],
   "source": [
    "S1 = 'Today is 10/12/16 and tomorrow is January 01 2019.'\n",
    "S2 = 'entries are due by January 4, 2017 at 8:00pm'\n",
    "S3 = 'created 01/15/2005 by ACME Inc. and associates.'\n",
    "S4 = 'Dec.01.2015 - Dec 31 2015 - Dec,12,2015 - Dec,12,2015 - Dec,12th,2015 - DEC122014'\n",
    "\n",
    "texts = [S1, S2, S3, S4]"
   ]
  },
  {
   "cell_type": "code",
   "execution_count": 3,
   "metadata": {},
   "outputs": [
    {
     "name": "stderr",
     "output_type": "stream",
     "text": [
      "DATETIME: 2019-07-09 21:03:33,093 INFO Extracting dates from the text.\n"
     ]
    },
    {
     "name": "stdout",
     "output_type": "stream",
     "text": [
      "TEXT: Today is 10/12/16 and tomorrow is January 01 2019.\n",
      "\n",
      "datetime(date='january 01 2019', token_span=(34, 49), token_index=(6, 8), format='%B %d %Y')\n",
      "----------------------------------------------------------------------------------------------------\n",
      "datetime(date='10/12/16', token_span=(9, 17), token_index=(2, 2), format='%d/%m/%y')\n",
      "----------------------------------------------------------------------------------------------------\n",
      "****************************************************************************************************\n"
     ]
    },
    {
     "name": "stderr",
     "output_type": "stream",
     "text": [
      "DATETIME: 2019-07-09 21:03:33,376 INFO Extracting dates from the text.\n",
      "DATETIME: 2019-07-09 21:03:33,614 INFO Extracting dates from the text.\n"
     ]
    },
    {
     "name": "stdout",
     "output_type": "stream",
     "text": [
      "TEXT: entries are due by January 4, 2017 at 8:00pm\n",
      "\n",
      "EXTRACTION FAILED.\n",
      "\n",
      "****************************************************************************************************\n",
      "TEXT: created 01/15/2005 by ACME Inc. and associates.\n",
      "\n",
      "datetime(date='01/15', token_span=(8, 13), token_index=(1, 1), format='%m/%d')\n",
      "----------------------------------------------------------------------------------------------------\n",
      "****************************************************************************************************\n"
     ]
    },
    {
     "name": "stderr",
     "output_type": "stream",
     "text": [
      "DATETIME: 2019-07-09 21:03:33,866 INFO Extracting dates from the text.\n"
     ]
    },
    {
     "name": "stdout",
     "output_type": "stream",
     "text": [
      "TEXT: Dec.01.2015 - Dec 31 2015 - Dec,12,2015 - Dec,12,2015 - Dec,12th,2015 - DEC122014\n",
      "\n",
      "datetime(date='dec 31 2015', token_span=(14, 25), token_index=(2, 4), format='%b %d %Y')\n",
      "----------------------------------------------------------------------------------------------------\n",
      "datetime(date='dec.01.2015', token_span=(0, 11), token_index=(0, 0), format='%b.%d.%Y')\n",
      "----------------------------------------------------------------------------------------------------\n",
      "datetime(date='dec,12,2015', token_span=(28, 39), token_index=(6, 6), format='%b,%d,%Y')\n",
      "----------------------------------------------------------------------------------------------------\n",
      "datetime(date='dec,12,2015', token_span=(42, 53), token_index=(8, 8), format='%b,%d,%Y')\n",
      "----------------------------------------------------------------------------------------------------\n",
      "datetime(date='dec122014', token_span=(72, 81), token_index=(12, 12), format='%b%d%Y')\n",
      "----------------------------------------------------------------------------------------------------\n",
      "****************************************************************************************************\n"
     ]
    }
   ],
   "source": [
    "for text in texts:\n",
    "    TEXT = f\"TEXT: {text}\\n\"\n",
    "    try:\n",
    "        parsed_dates = DateTimeParser(text, 2000, 2020, ['%b%d%Y', '%b.%d.%Y', '%b,%d,%Y', '%b,%d and %Y']) # pass your own custom formats, or just leave it.\n",
    "        print(TEXT)\n",
    "        for datetime in parsed_dates.datetime:\n",
    "            print(datetime)\n",
    "            print(\"-\"*100)\n",
    "        print(\"*\"*100)\n",
    "    except Exception:\n",
    "        print(TEXT)\n",
    "        print(\"EXTRACTION FAILED.\\n\")\n",
    "        print(\"*\"*100)\n",
    "        pass"
   ]
  },
  {
   "cell_type": "code",
   "execution_count": null,
   "metadata": {},
   "outputs": [],
   "source": []
  },
  {
   "cell_type": "code",
   "execution_count": null,
   "metadata": {},
   "outputs": [],
   "source": []
  },
  {
   "cell_type": "code",
   "execution_count": null,
   "metadata": {},
   "outputs": [],
   "source": []
  },
  {
   "cell_type": "code",
   "execution_count": null,
   "metadata": {},
   "outputs": [],
   "source": []
  },
  {
   "cell_type": "code",
   "execution_count": null,
   "metadata": {},
   "outputs": [],
   "source": []
  },
  {
   "cell_type": "code",
   "execution_count": null,
   "metadata": {},
   "outputs": [],
   "source": []
  },
  {
   "cell_type": "code",
   "execution_count": null,
   "metadata": {},
   "outputs": [],
   "source": []
  },
  {
   "cell_type": "code",
   "execution_count": null,
   "metadata": {},
   "outputs": [],
   "source": []
  },
  {
   "cell_type": "code",
   "execution_count": null,
   "metadata": {},
   "outputs": [],
   "source": []
  },
  {
   "cell_type": "code",
   "execution_count": null,
   "metadata": {},
   "outputs": [],
   "source": []
  },
  {
   "cell_type": "code",
   "execution_count": null,
   "metadata": {},
   "outputs": [],
   "source": []
  },
  {
   "cell_type": "code",
   "execution_count": null,
   "metadata": {},
   "outputs": [],
   "source": []
  },
  {
   "cell_type": "code",
   "execution_count": null,
   "metadata": {},
   "outputs": [],
   "source": []
  },
  {
   "cell_type": "code",
   "execution_count": null,
   "metadata": {},
   "outputs": [],
   "source": []
  },
  {
   "cell_type": "code",
   "execution_count": null,
   "metadata": {},
   "outputs": [],
   "source": []
  },
  {
   "cell_type": "code",
   "execution_count": null,
   "metadata": {},
   "outputs": [],
   "source": []
  },
  {
   "cell_type": "code",
   "execution_count": null,
   "metadata": {},
   "outputs": [],
   "source": []
  },
  {
   "cell_type": "code",
   "execution_count": null,
   "metadata": {},
   "outputs": [],
   "source": []
  }
 ],
 "metadata": {
  "kernelspec": {
   "display_name": "Python 3",
   "language": "python",
   "name": "python3"
  },
  "language_info": {
   "codemirror_mode": {
    "name": "ipython",
    "version": 3
   },
   "file_extension": ".py",
   "mimetype": "text/x-python",
   "name": "python",
   "nbconvert_exporter": "python",
   "pygments_lexer": "ipython3",
   "version": "3.7.2"
  }
 },
 "nbformat": 4,
 "nbformat_minor": 2
}
